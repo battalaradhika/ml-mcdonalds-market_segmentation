{
 "cells": [
  {
   "cell_type": "code",
   "execution_count": 9,
   "id": "initial_id",
   "metadata": {
    "collapsed": true,
    "ExecuteTime": {
     "end_time": "2024-12-19T15:32:31.854533Z",
     "start_time": "2024-12-19T15:32:31.741356Z"
    }
   },
   "outputs": [
    {
     "name": "stdout",
     "output_type": "stream",
     "text": [
      "Updated notebook metadata: radha.ipynb\n"
     ]
    },
    {
     "data": {
      "text/plain": "'radha.ipynb'"
     },
     "execution_count": 9,
     "metadata": {},
     "output_type": "execute_result"
    }
   ],
   "source": [
    "import nbformat\n",
    "import os\n",
    "def update_notebook_metadata(notebook_path):\n",
    "    \"\"\"\n",
    "    Updates the notebook metadata to include the 'execution_count' property.\n",
    "    \n",
    "    Args:\n",
    "        notebook_path (str): Path to the notebook file (.ipynb)\n",
    "    \"\"\"\n",
    "    try:\n",
    "        # Load the notebook\n",
    "        with open(notebook_path, 'r') as f:\n",
    "            nb = nbformat.read(f, as_version=4)\n",
    "        \n",
    "        # Update the metadata\n",
    "        nb.metadata.execution_count = 0\n",
    "        \n",
    "        # Save the updated notebook\n",
    "        with open(notebook_path, 'w') as f:\n",
    "            nbformat.write(nb, f)\n",
    "        \n",
    "        print(f\"Updated notebook metadata: {notebook_path}\")\n",
    "    \n",
    "    except Exception as e:\n",
    "        print(f\"Error updating notebook metadata: {e}\")\n",
    "        # Specify the path to your notebook file\n",
    "notebook_path = 'radha.ipynb'\n",
    "\n",
    "# Run the script\n",
    "update_notebook_metadata(notebook_path)\n",
    "'radha.ipynb' \n"
   ]
  },
  {
   "cell_type": "code",
   "outputs": [
    {
     "name": "stdout",
     "output_type": "stream",
     "text": [
      "Index(['yummy', 'convenient', 'spicy', 'fattening', 'greasy', 'fast', 'cheap',\n",
      "       'tasty', 'expensive', 'healthy', 'disgusting', 'Like', 'Age',\n",
      "       'VisitFrequency', 'Gender'],\n",
      "      dtype='object')\n"
     ]
    }
   ],
   "source": [
    "import pandas as pd\n",
    "import numpy as np\n",
    "import matplotlib.pyplot as plt\n",
    "file_path = 'mcdonalds (1).csv'\n",
    "mcdonalds = pd.read_csv(file_path)\n",
    "print(mcdonalds.columns)"
   ],
   "metadata": {
    "collapsed": false,
    "ExecuteTime": {
     "end_time": "2024-12-19T15:30:31.593633Z",
     "start_time": "2024-12-19T15:30:31.566610Z"
    }
   },
   "id": "af141c6acee407ca",
   "execution_count": 7
  },
  {
   "cell_type": "code",
   "outputs": [],
   "source": [],
   "metadata": {
    "collapsed": false
   },
   "id": "958af8ce685e76b2"
  }
 ],
 "metadata": {
  "kernelspec": {
   "display_name": "Python 3",
   "language": "python",
   "name": "python3"
  },
  "language_info": {
   "codemirror_mode": {
    "name": "ipython",
    "version": 2
   },
   "file_extension": ".py",
   "mimetype": "text/x-python",
   "name": "python",
   "nbconvert_exporter": "python",
   "pygments_lexer": "ipython2",
   "version": "2.7.6"
  }
 },
 "nbformat": 4,
 "nbformat_minor": 5
}
